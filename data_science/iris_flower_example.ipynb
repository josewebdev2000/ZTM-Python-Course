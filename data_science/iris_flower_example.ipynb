{
 "cells": [
  {
   "cell_type": "code",
   "execution_count": 137,
   "id": "f8b4236b",
   "metadata": {},
   "outputs": [],
   "source": [
    "# Import Data\n",
    "\n",
    "from sklearn.datasets import load_iris\n",
    "\n",
    "iris = load_iris()"
   ]
  },
  {
   "cell_type": "code",
   "execution_count": 138,
   "id": "4ad8951a",
   "metadata": {},
   "outputs": [],
   "source": [
    "#iris"
   ]
  },
  {
   "cell_type": "code",
   "execution_count": 139,
   "id": "2139087d",
   "metadata": {},
   "outputs": [],
   "source": [
    "# Assume the data is cleaned\n",
    "\n",
    "# Define input and outputs\n",
    "\n",
    "X = iris.data     # Training Set\n",
    "Y = iris.target   # Testing Set (Types of Iris Flowers)\n",
    "\n",
    "feature_names = iris.feature_names # Type of input to provide\n",
    "target_names = iris.target_names   # Type of output to receive"
   ]
  },
  {
   "cell_type": "code",
   "execution_count": 140,
   "id": "2861a9b2",
   "metadata": {},
   "outputs": [],
   "source": [
    "# Do what's required to split the data\n",
    "from sklearn.model_selection import train_test_split"
   ]
  },
  {
   "cell_type": "code",
   "execution_count": 141,
   "id": "ce4ff97d",
   "metadata": {},
   "outputs": [],
   "source": [
    "X_train, X_test, Y_train, Y_test = train_test_split(X, Y, test_size = 0.2)"
   ]
  },
  {
   "cell_type": "code",
   "execution_count": 142,
   "id": "a013ff01",
   "metadata": {},
   "outputs": [
    {
     "name": "stdout",
     "output_type": "stream",
     "text": [
      "(120, 4)\n",
      "(30, 4)\n"
     ]
    }
   ],
   "source": [
    "print(X_train.shape)\n",
    "print(X_test.shape)"
   ]
  },
  {
   "cell_type": "code",
   "execution_count": 143,
   "id": "37f1ad1a",
   "metadata": {},
   "outputs": [],
   "source": [
    "# Now create/train the model\n",
    "from sklearn.neighbors import KNeighborsClassifier"
   ]
  },
  {
   "cell_type": "code",
   "execution_count": 144,
   "id": "2ca2c97b",
   "metadata": {},
   "outputs": [],
   "source": [
    "knn = KNeighborsClassifier(n_neighbors = 3)\n",
    "knn.fit(X_train, Y_train)\n",
    "predict = knn.predict(X_test)"
   ]
  },
  {
   "cell_type": "code",
   "execution_count": 145,
   "id": "9fba9638",
   "metadata": {},
   "outputs": [
    {
     "name": "stdout",
     "output_type": "stream",
     "text": [
      "1.0\n"
     ]
    }
   ],
   "source": [
    "# Get model accuracy\n",
    "from sklearn import metrics\n",
    "\n",
    "print(metrics.accuracy_score(Y_test, predict))"
   ]
  },
  {
   "cell_type": "code",
   "execution_count": 146,
   "id": "d14fcae6",
   "metadata": {},
   "outputs": [],
   "source": [
    "# Improve our model\n",
    "# Give more training data\n",
    "# Give more testing data\n",
    "# Change the model"
   ]
  },
  {
   "cell_type": "code",
   "execution_count": 147,
   "id": "d4de4cb2",
   "metadata": {},
   "outputs": [],
   "source": [
    "sample = [[3,5,4,2], [2,3,5,4]]\n",
    "predictions = knn.predict(sample)\n",
    "pred_species = [iris.target_names[p] for p in predictions]"
   ]
  },
  {
   "cell_type": "code",
   "execution_count": 148,
   "id": "7a70c675",
   "metadata": {},
   "outputs": [
    {
     "data": {
      "text/plain": [
       "['versicolor', 'virginica']"
      ]
     },
     "execution_count": 148,
     "metadata": {},
     "output_type": "execute_result"
    }
   ],
   "source": [
    "pred_species"
   ]
  },
  {
   "cell_type": "code",
   "execution_count": 149,
   "id": "43e70f2c",
   "metadata": {},
   "outputs": [],
   "source": [
    "from joblib import dump, load"
   ]
  },
  {
   "cell_type": "code",
   "execution_count": 150,
   "id": "41e1789f",
   "metadata": {},
   "outputs": [
    {
     "data": {
      "text/plain": [
       "['mlbrain.joblib']"
      ]
     },
     "execution_count": 150,
     "metadata": {},
     "output_type": "execute_result"
    }
   ],
   "source": [
    "# Store train model in bin file\n",
    "dump(knn, 'mlbrain.joblib')"
   ]
  },
  {
   "cell_type": "code",
   "execution_count": 151,
   "id": "734ea714",
   "metadata": {},
   "outputs": [
    {
     "data": {
      "text/plain": [
       "array([2, 1, 0, 0, 1, 0, 1, 2, 0, 2, 0, 2, 1, 0, 2, 2, 2, 2, 0, 1, 0, 0,\n",
       "       2, 1, 0, 2, 1, 0, 0, 2])"
      ]
     },
     "execution_count": 151,
     "metadata": {},
     "output_type": "execute_result"
    }
   ],
   "source": [
    "# Load previous model\n",
    "model = load(\"mlbrain.joblib\")\n",
    "\n",
    "# Predict with Input Test Data\n",
    "model.predict(X_test)"
   ]
  },
  {
   "cell_type": "code",
   "execution_count": 152,
   "id": "b41142d4",
   "metadata": {},
   "outputs": [],
   "source": [
    "sample = [[3,5,4,2], [2,3,5,4]]\n",
    "predictions = knn.predict(sample)\n",
    "pred_species = [iris.target_names[p] for p in predictions]"
   ]
  },
  {
   "cell_type": "code",
   "execution_count": null,
   "id": "a74bf903",
   "metadata": {},
   "outputs": [],
   "source": []
  }
 ],
 "metadata": {
  "kernelspec": {
   "display_name": "Python 3 (ipykernel)",
   "language": "python",
   "name": "python3"
  },
  "language_info": {
   "codemirror_mode": {
    "name": "ipython",
    "version": 3
   },
   "file_extension": ".py",
   "mimetype": "text/x-python",
   "name": "python",
   "nbconvert_exporter": "python",
   "pygments_lexer": "ipython3",
   "version": "3.10.9"
  }
 },
 "nbformat": 4,
 "nbformat_minor": 5
}
